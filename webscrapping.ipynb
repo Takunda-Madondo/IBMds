{
 "cells": [
  {
   "cell_type": "code",
   "execution_count": 1,
   "id": "c1a6743f",
   "metadata": {},
   "outputs": [],
   "source": [
    "from bs4 import BeautifulSoup\n",
    "import requests\n",
    "import pandas as pd\n",
    "import numpy as np"
   ]
  },
  {
   "cell_type": "code",
   "execution_count": 2,
   "id": "d0dfbf2c",
   "metadata": {},
   "outputs": [],
   "source": [
    "html=\"<!DOCTYPE html><html><head><title>Page Title</title></head><body><h3><b id='boldest'>Lebron James</b></h3><p> Salary: $ 92,000,000 </p><h3> Stephen Curry</h3><p> Salary: $85,000, 000 </p><h3> Kevin Durant </h3><p> Salary: $73,200, 000</p></body></html>\""
   ]
  },
  {
   "cell_type": "code",
   "execution_count": 3,
   "id": "32e73db2",
   "metadata": {},
   "outputs": [],
   "source": [
    "soup = BeautifulSoup(html, 'html.parser')"
   ]
  },
  {
   "cell_type": "code",
   "execution_count": 5,
   "id": "a8171d32",
   "metadata": {},
   "outputs": [
    {
     "name": "stdout",
     "output_type": "stream",
     "text": [
      "<!DOCTYPE html>\n",
      "<html>\n",
      " <head>\n",
      "  <title>\n",
      "   Page Title\n",
      "  </title>\n",
      " </head>\n",
      " <body>\n",
      "  <h3>\n",
      "   <b id=\"boldest\">\n",
      "    Lebron James\n",
      "   </b>\n",
      "  </h3>\n",
      "  <p>\n",
      "   Salary: $ 92,000,000\n",
      "  </p>\n",
      "  <h3>\n",
      "   Stephen Curry\n",
      "  </h3>\n",
      "  <p>\n",
      "   Salary: $85,000, 000\n",
      "  </p>\n",
      "  <h3>\n",
      "   Kevin Durant\n",
      "  </h3>\n",
      "  <p>\n",
      "   Salary: $73,200, 000\n",
      "  </p>\n",
      " </body>\n",
      "</html>\n",
      "\n"
     ]
    }
   ],
   "source": [
    "print(soup.prettify())"
   ]
  },
  {
   "cell_type": "code",
   "execution_count": null,
   "id": "a07b8bc6",
   "metadata": {},
   "outputs": [],
   "source": []
  },
  {
   "cell_type": "markdown",
   "id": "0c78183e",
   "metadata": {},
   "source": [
    "**downloading from the web**"
   ]
  },
  {
   "cell_type": "code",
   "execution_count": 6,
   "id": "10ec3730",
   "metadata": {},
   "outputs": [],
   "source": [
    "url = \"http://www.ibm.com\""
   ]
  },
  {
   "cell_type": "code",
   "execution_count": 8,
   "id": "bf96b554",
   "metadata": {},
   "outputs": [],
   "source": [
    "data = requests.get(url).text"
   ]
  },
  {
   "cell_type": "code",
   "execution_count": 9,
   "id": "31312d4e",
   "metadata": {},
   "outputs": [],
   "source": [
    "soup = BeautifulSoup(data, 'html.parser')"
   ]
  },
  {
   "cell_type": "code",
   "execution_count": null,
   "id": "33812218",
   "metadata": {},
   "outputs": [
    {
     "name": "stdout",
     "output_type": "stream",
     "text": [
      "<img alt=\"Ruby Zgabay  with Power11 S1122 server \" class=\"cmp-image__image\" height=\"6294\" itemprop=\"contentUrl\" loading=\"lazy\" src=\"https://assets.ibm.com/is/image/ibm/202505_power11_mahaney_atx_s1122-ls2_1122?ts=1751986655725&amp;dpr=off\" srcset=\"data:image/gif;base64,R0lGODlhAQABAAAAACH5BAEKAAEALAAAAAABAAEAAAICTAEAOw==\" title=\"Technician working on server hardware\" width=\"9441\"/>\n",
      "https://assets.ibm.com/is/image/ibm/202505_power11_mahaney_atx_s1122-ls2_1122?ts=1751986655725&dpr=off\n",
      "<img alt=\"Illustration of a multiple tennis balls going over a net\" class=\"cmp-image__image\" height=\"1920\" itemprop=\"contentUrl\" loading=\"lazy\" src=\"https://assets.ibm.com/is/image/ibm/ibm_wimbledon_2d_additional_p_1x1?ts=1751986659305&amp;dpr=off\" srcset=\"data:image/gif;base64,R0lGODlhAQABAAAAACH5BAEKAAEALAAAAAABAAEAAAICTAEAOw==\" width=\"1920\"/>\n",
      "https://assets.ibm.com/is/image/ibm/ibm_wimbledon_2d_additional_p_1x1?ts=1751986659305&dpr=off\n",
      "<img alt=\"Illutration of many tennis balls organizing into a single column\" class=\"cmp-image__image\" height=\"1920\" itemprop=\"contentUrl\" loading=\"lazy\" src=\"https://assets.ibm.com/is/image/ibm/ibm_wimbledon_2d_b_1x1?ts=1751986659840&amp;dpr=off\" srcset=\"data:image/gif;base64,R0lGODlhAQABAAAAACH5BAEKAAEALAAAAAABAAEAAAICTAEAOw==\" width=\"1920\"/>\n",
      "https://assets.ibm.com/is/image/ibm/ibm_wimbledon_2d_b_1x1?ts=1751986659840&dpr=off\n",
      "<img alt=\"Illustration of a grid showing different elements of tennis\" class=\"cmp-image__image\" height=\"1920\" itemprop=\"contentUrl\" loading=\"lazy\" src=\"https://assets.ibm.com/is/image/ibm/ibm_wimbledon_2d_additional_a_1x1?ts=1751986660408&amp;dpr=off\" srcset=\"data:image/gif;base64,R0lGODlhAQABAAAAACH5BAEKAAEALAAAAAABAAEAAAICTAEAOw==\" width=\"1920\"/>\n",
      "https://assets.ibm.com/is/image/ibm/ibm_wimbledon_2d_additional_a_1x1?ts=1751986660408&dpr=off\n",
      "<img alt=\"Offers and discount promotion banner of a shopping bag with celebratory confetti coming out\" class=\"cmp-image__image\" height=\"2161\" itemprop=\"contentUrl\" loading=\"lazy\" src=\"https://assets.ibm.com/is/image/ibm/big-blue-30-shopping-promotion-banner?ts=1751986664256&amp;dpr=off\" srcset=\"data:image/gif;base64,R0lGODlhAQABAAAAACH5BAEKAAEALAAAAAABAAEAAAICTAEAOw==\" width=\"3841\"/>\n",
      "https://assets.ibm.com/is/image/ibm/big-blue-30-shopping-promotion-banner?ts=1751986664256&dpr=off\n"
     ]
    }
   ],
   "source": [
    "for link in soup.find_all('img'):# in html image is represented by the tag <img>\n",
    "    print(link)\n",
    "    print(link.get('src'))"
   ]
  },
  {
   "cell_type": "code",
   "execution_count": null,
   "id": "ee2ec8b6",
   "metadata": {},
   "outputs": [],
   "source": []
  }
 ],
 "metadata": {
  "kernelspec": {
   "display_name": "Python 3",
   "language": "python",
   "name": "python3"
  },
  "language_info": {
   "codemirror_mode": {
    "name": "ipython",
    "version": 3
   },
   "file_extension": ".py",
   "mimetype": "text/x-python",
   "name": "python",
   "nbconvert_exporter": "python",
   "pygments_lexer": "ipython3",
   "version": "3.13.3"
  }
 },
 "nbformat": 4,
 "nbformat_minor": 5
}
